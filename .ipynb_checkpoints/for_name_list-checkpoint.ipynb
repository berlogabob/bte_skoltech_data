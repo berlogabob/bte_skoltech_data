{
 "cells": [
  {
   "cell_type": "code",
   "execution_count": 8,
   "metadata": {},
   "outputs": [
    {
     "ename": "ImportError",
     "evalue": "No module named matlotlib.pyplot",
     "output_type": "error",
     "traceback": [
      "\u001b[0;31m---------------------------------------------------------------------------\u001b[0m",
      "\u001b[0;31mImportError\u001b[0m                               Traceback (most recent call last)",
      "\u001b[0;32m<ipython-input-8-a9b93de912dc>\u001b[0m in \u001b[0;36m<module>\u001b[0;34m()\u001b[0m\n\u001b[1;32m      1\u001b[0m \u001b[0;34m\u001b[0m\u001b[0m\n\u001b[1;32m      2\u001b[0m \u001b[0;32mimport\u001b[0m \u001b[0mpandas\u001b[0m \u001b[0;32mas\u001b[0m \u001b[0mpd\u001b[0m\u001b[0;34m\u001b[0m\u001b[0m\n\u001b[0;32m----> 3\u001b[0;31m \u001b[0;32mimport\u001b[0m \u001b[0mmatlotlib\u001b[0m\u001b[0;34m.\u001b[0m\u001b[0mpyplot\u001b[0m \u001b[0;32mas\u001b[0m \u001b[0mplt\u001b[0m\u001b[0;34m\u001b[0m\u001b[0m\n\u001b[0m\u001b[1;32m      4\u001b[0m \u001b[0;32mimport\u001b[0m \u001b[0mnumpy\u001b[0m \u001b[0;32mas\u001b[0m \u001b[0mnp\u001b[0m\u001b[0;34m\u001b[0m\u001b[0m\n",
      "\u001b[0;31mImportError\u001b[0m: No module named matlotlib.pyplot"
     ]
    }
   ],
   "source": [
    "# -*- coding: utf-8 -*-\n",
    "import pandas as pd\n",
    "import matlotlib.pyplot as plt\n",
    "import numpy as np"
   ]
  },
  {
   "cell_type": "code",
   "execution_count": null,
   "metadata": {
    "collapsed": true
   },
   "outputs": [],
   "source": [
    "name_list = [\"MP_SMPL1\", \"MA_SMPL1\",  \"MA_SMPL2\",  \"MA_SMPL3\",  \"MA_SMPL4\",  \"MB_SMPL1\", \"MB_SMPL2\", \"MB_SMPL3\", \"MB_SMPL4\", \"MC_SMPL1\", \"MC_SMPL2\", \"MC_SMPL3\", \"MC_SMPL4\"]"
   ]
  },
  {
   "cell_type": "code",
   "execution_count": null,
   "metadata": {},
   "outputs": [],
   "source": [
    "for i in name_list:\n",
    "    i = usinp\n",
    "    len_usinp = len(str(usinp))\n",
    "    usinp_e = usinp + 'e' + '.csv'\n",
    "    usinp_title = usinp\n",
    "    s = open(usinp).read()#прочитали исходный файл\n",
    "    s = s.replace(',', '.')#меняем запятую на точкуу\n",
    "    f = open(usinp_e, 'w')#открыли файл (создали)\n",
    "    f.write(s)#записали\n",
    "    f.close()#закрыли\n",
    "    frame = pd.read_csv(usinp_e, sep = \"\\t\", header = None, names = ['Time', 'Cur1', 'Volt1', 'Volt2', 'Volt3', 'Cur4'], skiprows = 1)\n",
    "    allarray = np.array(frame)\n",
    "    Time = np.array(frame['Time'])\n",
    "    Cur1 = np.array(frame['Cur1'])\n",
    "    Cur2 = np.array(frame['Cur1'])\n",
    "    Volt1 = np.array(frame['Volt1'])\n",
    "    Volt2 = np.array(frame['Volt2'])\n",
    "    Volt3 = np.array(frame['Volt3'])\n",
    "    Cur4 = np.array(frame['Cur4'])\n",
    "    plt.figure(num = 1, dpi= 300)\n",
    "    #plt.suptitle(usinp_title, fontsize=16)\n",
    "    plt.plot(Time, Volt3, \"b\")\n",
    "    plt.xlabel('Time, s')\n",
    "    plt.ylabel('Voltage, V')\n",
    "    #plt.title(u'Вольт-амперная характеристика', fontsize=12)\n",
    "    plt.grid(True)\n",
    "    #вывод\n",
    "    plt.draw()\n",
    "    plt.figure(1).savefig(usinp_title + 'e' + '.png')\n",
    "    plt.figure(1).savefig(usinp_title + 'e' + '.pdf')"
   ]
  }
 ],
 "metadata": {
  "kernelspec": {
   "display_name": "Python 2",
   "language": "python",
   "name": "python2"
  },
  "language_info": {
   "codemirror_mode": {
    "name": "ipython",
    "version": 2
   },
   "file_extension": ".py",
   "mimetype": "text/x-python",
   "name": "python",
   "nbconvert_exporter": "python",
   "pygments_lexer": "ipython2",
   "version": "2.7.13"
  }
 },
 "nbformat": 4,
 "nbformat_minor": 2
}
